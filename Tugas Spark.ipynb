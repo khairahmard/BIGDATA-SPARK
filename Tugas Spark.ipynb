{
 "cells": [
  {
   "cell_type": "code",
   "execution_count": 2,
   "metadata": {},
   "outputs": [],
   "source": [
    "import findspark\n",
    "findspark.init()"
   ]
  },
  {
   "cell_type": "code",
   "execution_count": 3,
   "metadata": {},
   "outputs": [],
   "source": [
    "from pyspark.sql import SparkSession\n",
    "spark = SparkSession \\\n",
    "    .builder \\\n",
    "    .appName(\"Python Spark SQL basic example\") \\\n",
    "    .getOrCreate()"
   ]
  },
  {
   "cell_type": "code",
   "execution_count": 4,
   "metadata": {},
   "outputs": [
    {
     "name": "stdout",
     "output_type": "stream",
     "text": [
      "<pyspark.sql.session.SparkSession object at 0x0000011C5311DDD8>\n"
     ]
    }
   ],
   "source": [
    "print(spark)"
   ]
  },
  {
   "cell_type": "code",
   "execution_count": 6,
   "metadata": {},
   "outputs": [],
   "source": [
    "df = spark.read.csv(\"D:/Spark/dataset/driver-license-permit-and-non-driver-identification-cards-issued-as-of-august-30-2017.csv\", header=True, inferSchema=True)"
   ]
  },
  {
   "cell_type": "code",
   "execution_count": 7,
   "metadata": {},
   "outputs": [
    {
     "name": "stdout",
     "output_type": "stream",
     "text": [
      "+-------------+---+---------------+-----+-----+----------------+-------------+---------+---------+------------------+\n",
      "|Year of Birth|Sex|           City|State|  Zip|Residence County|License Class|   Status|Privilege|Year of Expiration|\n",
      "+-------------+---+---------------+-----+-----+----------------+-------------+---------+---------+------------------+\n",
      "|         1950|  F|       GLENMONT|   NY|12077|          ALBANY|            D|    VALID|     FULL|              2020|\n",
      "|         1977|  F| WEST HEMPSTEAD|   NY|11552|          NASSAU|            D|    VALID|     FULL|              2019|\n",
      "|         1967|  M|      SMITHTOWN|   NY|11787|         SUFFOLK|            D|    VALID|     FULL|              2019|\n",
      "|         1989|  M|       BROOKLYN|   NY|11213|           KINGS|            D|    VALID|     FULL|              2020|\n",
      "|         1994|  F|        BXVILLE|   NY|10708|     WESTCHESTER|            D|    VALID|     FULL|              2023|\n",
      "|         1960|  M|       NEW YORK|   NY|10025|        NEW YORK|            D|    VALID|     FULL|              2019|\n",
      "|         1961|  F|  MONTOUR FALLS|   NY|14865|        SCHUYLER|            D|    VALID|     FULL|              2018|\n",
      "|         1952|  F|JACKSON HEIGHTS|   NY|11372|          QUEENS|            D|    VALID|     FULL|              2025|\n",
      "|         1981|  M|       NEW YORK|   NY|10039|        NEW YORK|            I|     NONE|     NONE|              2020|\n",
      "|         1958|  F|      NORTHPORT|   NY|11768|         SUFFOLK|            D|    VALID|     FULL|              2020|\n",
      "|         1999|  F|  STATEN ISLAND|   NY|10312|        RICHMOND|            D|    VALID|     FULL|              2020|\n",
      "|         1980|  F|       SYRACUSE|   NY|13214|        ONONDAGA|            D|    VALID|     FULL|              2019|\n",
      "|         1923|  F|        WAVERLY|   NY|14892|           TIOGA|            I|     NONE|     NONE|              2019|\n",
      "|         1949|  F|  WILLIAMSVILLE|   NY|14221|            ERIE|            D|    VALID|     FULL|              2019|\n",
      "|         1974|  F|   POUGHKEEPSIE|   NY|12601|        DUTCHESS|            D|SUSPENDED|     FULL|              2019|\n",
      "|         1947|  M|    CHEEKTOWAGA|   NY|14225|            ERIE|            D|    VALID|     FULL|              2019|\n",
      "|         1996|  M|          BRONX|   NY|10466|           BRONX|     D PERMIT|    VALID|     FULL|              2020|\n",
      "|         1954|  M|       BROOKLYN|   NY|11236|           KINGS|            D|    VALID|     FULL|              2025|\n",
      "|         2000|  M|      EAST OTTO|   NY|14729|     CATTARAUGUS|    DJ PERMIT|    VALID|     FULL|              2021|\n",
      "|         1947|  M|     BRIDGEPORT|   NY|13030|        ONONDAGA|            D|    VALID|     FULL|              2020|\n",
      "+-------------+---+---------------+-----+-----+----------------+-------------+---------+---------+------------------+\n",
      "only showing top 20 rows\n",
      "\n"
     ]
    }
   ],
   "source": [
    "df.show()"
   ]
  },
  {
   "cell_type": "code",
   "execution_count": 8,
   "metadata": {
    "scrolled": true
   },
   "outputs": [
    {
     "data": {
      "text/plain": [
       "StructType(List(StructField(Year of Birth,IntegerType,true),StructField(Sex,StringType,true),StructField(City,StringType,true),StructField(State,StringType,true),StructField(Zip,StringType,true),StructField(Residence County,StringType,true),StructField(License Class,StringType,true),StructField(Status,StringType,true),StructField(Privilege,StringType,true),StructField(Year of Expiration,IntegerType,true)))"
      ]
     },
     "execution_count": 8,
     "metadata": {},
     "output_type": "execute_result"
    }
   ],
   "source": [
    "df.schema"
   ]
  },
  {
   "cell_type": "code",
   "execution_count": 9,
   "metadata": {},
   "outputs": [
    {
     "data": {
      "text/plain": [
       "15903561"
      ]
     },
     "execution_count": 9,
     "metadata": {},
     "output_type": "execute_result"
    }
   ],
   "source": [
    "df.count()"
   ]
  },
  {
   "cell_type": "code",
   "execution_count": 10,
   "metadata": {},
   "outputs": [],
   "source": [
    "df.createOrReplaceTempView(\"License\")"
   ]
  },
  {
   "cell_type": "code",
   "execution_count": 11,
   "metadata": {},
   "outputs": [],
   "source": [
    "result = spark.sql(\"SELECT DISTINCT State FROM License\")"
   ]
  },
  {
   "cell_type": "code",
   "execution_count": 12,
   "metadata": {},
   "outputs": [
    {
     "name": "stdout",
     "output_type": "stream",
     "text": [
      "+-----+\n",
      "|State|\n",
      "+-----+\n",
      "|   AZ|\n",
      "|   SC|\n",
      "|   NS|\n",
      "|   LA|\n",
      "|   MN|\n",
      "|   NK|\n",
      "|   AA|\n",
      "|   NJ|\n",
      "|   DC|\n",
      "|   GL|\n",
      "|   CN|\n",
      "|   OR|\n",
      "|   NT|\n",
      "|   VA|\n",
      "|   QC|\n",
      "|   RI|\n",
      "|   KY|\n",
      "|   WY|\n",
      "|   BC|\n",
      "|   NH|\n",
      "+-----+\n",
      "only showing top 20 rows\n",
      "\n"
     ]
    }
   ],
   "source": [
    "result.show()"
   ]
  },
  {
   "cell_type": "code",
   "execution_count": 44,
   "metadata": {},
   "outputs": [],
   "source": [
    "#Jumlah License di New York berdasarkan Licence Class nya\n",
    "\n",
    "query1 = spark.sql(\"SELECT `License Class`, COUNT(`License class`) AS Jumlah \\\n",
    "                    FROM License \\\n",
    "                    WHERE City='NEW YORK' \\\n",
    "                    GROUP BY `License Class`\")"
   ]
  },
  {
   "cell_type": "code",
   "execution_count": 45,
   "metadata": {},
   "outputs": [
    {
     "name": "stdout",
     "output_type": "stream",
     "text": [
      "+----------------+------+\n",
      "|   License Class|Jumlah|\n",
      "+----------------+------+\n",
      "| E WITH A PERMIT|    67|\n",
      "|              AM|   401|\n",
      "| A WITH M PERMIT|    24|\n",
      "| B WITH B PERMIT|     6|\n",
      "| M WITH D PERMIT|    71|\n",
      "| D WITH M PERMIT|   743|\n",
      "|        B PERMIT|     1|\n",
      "|        E PERMIT|    15|\n",
      "|               E| 52062|\n",
      "|EM WITH B PERMIT|     3|\n",
      "|               B|  5733|\n",
      "| N WITH M PERMIT|     4|\n",
      "| D WITH A PERMIT|    66|\n",
      "|CM WITH A PERMIT|     1|\n",
      "| D WITH B PERMIT|   139|\n",
      "|              BM|   532|\n",
      "|               M|   240|\n",
      "|BM WITH B PERMIT|     1|\n",
      "|               D|732524|\n",
      "|EM WITH A PERMIT|     2|\n",
      "+----------------+------+\n",
      "only showing top 20 rows\n",
      "\n"
     ]
    }
   ],
   "source": [
    "query1.show()"
   ]
  },
  {
   "cell_type": "code",
   "execution_count": 56,
   "metadata": {},
   "outputs": [],
   "source": [
    "#Jumlah License yang expired pada tahun 2019 dan urutkan dari yang paling banyak\n",
    "query2 = spark.sql(\"SELECT `City`, COUNT(`Year of Expiration`) AS Jumlah \\\n",
    "                    FROM License \\\n",
    "                    WHERE `Year of Expiration`=2019 \\\n",
    "                    GROUP BY `City` \\\n",
    "                    ORDER BY `Jumlah` DESC\")"
   ]
  },
  {
   "cell_type": "code",
   "execution_count": 57,
   "metadata": {},
   "outputs": [
    {
     "name": "stdout",
     "output_type": "stream",
     "text": [
      "+-------------+------+\n",
      "|         City|Jumlah|\n",
      "+-------------+------+\n",
      "|     BROOKLYN|316453|\n",
      "|     NEW YORK|218912|\n",
      "|        BRONX|173800|\n",
      "|STATEN ISLAND| 82601|\n",
      "|    ROCHESTER| 80796|\n",
      "|      BUFFALO| 47242|\n",
      "|     FLUSHING| 37047|\n",
      "|     SYRACUSE| 31482|\n",
      "|      JAMAICA| 30949|\n",
      "|      YONKERS| 29345|\n",
      "|       ALBANY| 21724|\n",
      "|  SCHENECTADY| 20937|\n",
      "|      ASTORIA| 17674|\n",
      "| POUGHKEEPSIE| 14490|\n",
      "| WHITE PLAINS| 13463|\n",
      "|   BINGHAMTON| 12687|\n",
      "|     ELMHURST| 12512|\n",
      "| NEW ROCHELLE| 12102|\n",
      "|VALLEY STREAM| 11836|\n",
      "|     WOODSIDE| 11583|\n",
      "+-------------+------+\n",
      "only showing top 20 rows\n",
      "\n"
     ]
    }
   ],
   "source": [
    "query2.show()"
   ]
  },
  {
   "cell_type": "code",
   "execution_count": 61,
   "metadata": {},
   "outputs": [],
   "source": [
    "#JUMLAH License yang berstatus valid yang pemegangnya adalah perempuan dan tinggal di Residence County NEW YORK\n",
    "#Group by ZIP numbernya\n",
    "query3 = spark.sql(\"SELECT `Zip`, COUNT(`Status`) AS Jumlah \\\n",
    "                    FROM License \\\n",
    "                    WHERE `Residence County`='NEW YORK' AND Status='VALID' AND Sex='F' \\\n",
    "                    GROUP BY `Zip` \\\n",
    "                    ORDER BY `Jumlah` DESC\")"
   ]
  },
  {
   "cell_type": "code",
   "execution_count": 62,
   "metadata": {},
   "outputs": [
    {
     "name": "stdout",
     "output_type": "stream",
     "text": [
      "+-----+------+\n",
      "|  Zip|Jumlah|\n",
      "+-----+------+\n",
      "|10025| 25897|\n",
      "|10023| 20917|\n",
      "|10128| 19995|\n",
      "|10024| 19421|\n",
      "|10002| 16954|\n",
      "|10028| 15860|\n",
      "|10021| 15452|\n",
      "|10016| 14149|\n",
      "|10009| 13898|\n",
      "|10011| 13756|\n",
      "|10003| 13580|\n",
      "|10029| 13474|\n",
      "|10027| 11547|\n",
      "|10022| 10917|\n",
      "|10019| 10883|\n",
      "|10032| 10160|\n",
      "|10031| 10063|\n",
      "|10033|  9960|\n",
      "|10065|  9953|\n",
      "|10075|  9369|\n",
      "+-----+------+\n",
      "only showing top 20 rows\n",
      "\n"
     ]
    }
   ],
   "source": [
    "query3.show()"
   ]
  },
  {
   "cell_type": "code",
   "execution_count": 63,
   "metadata": {},
   "outputs": [],
   "source": [
    "# Save the results QUERY 1 to CSV --> partitioned CSV\n",
    "query1.write \\\n",
    "  .option(\"header\", \"true\") \\\n",
    "  .csv(\"file:///D:/Spark/dataset/query1.csv\")"
   ]
  },
  {
   "cell_type": "code",
   "execution_count": 64,
   "metadata": {},
   "outputs": [],
   "source": [
    "# Convert to Pandas\n",
    "import pandas as pd\n",
    "query1Pandas = query1.toPandas()"
   ]
  },
  {
   "cell_type": "code",
   "execution_count": 65,
   "metadata": {},
   "outputs": [],
   "source": [
    "# Save to single CSV\n",
    "query1Pandas.to_csv(\"D:/Spark/dataset/query1Pandas.csv\", index=False)"
   ]
  },
  {
   "cell_type": "code",
   "execution_count": 66,
   "metadata": {},
   "outputs": [],
   "source": [
    "# Save the results QUERY 2 to CSV --> partitioned CSV\n",
    "query2.write \\\n",
    "  .option(\"header\", \"true\") \\\n",
    "  .csv(\"file:///D:/Spark/dataset/query2.csv\")"
   ]
  },
  {
   "cell_type": "code",
   "execution_count": 67,
   "metadata": {},
   "outputs": [],
   "source": [
    "# Convert to Pandas\n",
    "import pandas as pd\n",
    "query2Pandas = query2.toPandas()"
   ]
  },
  {
   "cell_type": "code",
   "execution_count": 68,
   "metadata": {},
   "outputs": [],
   "source": [
    "# Save to single CSV\n",
    "query2Pandas.to_csv(\"D:/Spark/dataset/query2Pandas.csv\", index=False)"
   ]
  },
  {
   "cell_type": "code",
   "execution_count": 69,
   "metadata": {},
   "outputs": [],
   "source": [
    "# Save the results QUERY 3 to CSV --> partitioned CSV\n",
    "query2.write \\\n",
    "  .option(\"header\", \"true\") \\\n",
    "  .csv(\"file:///D:/Spark/dataset/query3.csv\")"
   ]
  },
  {
   "cell_type": "code",
   "execution_count": 70,
   "metadata": {},
   "outputs": [],
   "source": [
    "# Convert to Pandas\n",
    "import pandas as pd\n",
    "query3Pandas = query3.toPandas()"
   ]
  },
  {
   "cell_type": "code",
   "execution_count": 71,
   "metadata": {},
   "outputs": [],
   "source": [
    "# Save to single CSV\n",
    "query3Pandas.to_csv(\"D:/Spark/dataset/query3Pandas.csv\", index=False)"
   ]
  },
  {
   "cell_type": "code",
   "execution_count": null,
   "metadata": {},
   "outputs": [],
   "source": []
  }
 ],
 "metadata": {
  "kernelspec": {
   "display_name": "Python 3",
   "language": "python",
   "name": "python3"
  },
  "language_info": {
   "codemirror_mode": {
    "name": "ipython",
    "version": 3
   },
   "file_extension": ".py",
   "mimetype": "text/x-python",
   "name": "python",
   "nbconvert_exporter": "python",
   "pygments_lexer": "ipython3",
   "version": "3.6.4"
  }
 },
 "nbformat": 4,
 "nbformat_minor": 2
}
